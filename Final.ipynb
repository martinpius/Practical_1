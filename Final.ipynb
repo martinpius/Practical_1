{
  "nbformat": 4,
  "nbformat_minor": 0,
  "metadata": {
    "colab": {
      "private_outputs": true,
      "provenance": [],
      "authorship_tag": "ABX9TyP0XH8oPPhg3vTzdc+h7uUU",
      "include_colab_link": true
    },
    "kernelspec": {
      "name": "python3",
      "display_name": "Python 3"
    },
    "language_info": {
      "name": "python"
    }
  },
  "cells": [
    {
      "cell_type": "markdown",
      "metadata": {
        "id": "view-in-github",
        "colab_type": "text"
      },
      "source": [
        "<a href=\"https://colab.research.google.com/github/martinpius/Practical_1/blob/main/Final.ipynb\" target=\"_parent\"><img src=\"https://colab.research.google.com/assets/colab-badge.svg\" alt=\"Open In Colab\"/></a>"
      ]
    },
    {
      "cell_type": "code",
      "source": [
        "!pip install fpdf # Installing if not available"
      ],
      "metadata": {
        "id": "ytgLm-CXWpZS"
      },
      "execution_count": null,
      "outputs": []
    },
    {
      "cell_type": "code",
      "source": [
        "#from google.colab import files"
      ],
      "metadata": {
        "id": "8AlwGRCVrFC1"
      },
      "execution_count": null,
      "outputs": []
    },
    {
      "cell_type": "code",
      "source": [],
      "metadata": {
        "id": "a2rIqfEu5CN2"
      },
      "execution_count": null,
      "outputs": []
    },
    {
      "cell_type": "code",
      "source": [
        "# Import executable module\n",
        "#files.upload()"
      ],
      "metadata": {
        "id": "OH9v_4amrOk_"
      },
      "execution_count": null,
      "outputs": []
    },
    {
      "cell_type": "code",
      "source": [
        "# from google.colab import drive\n",
        "# import os\n",
        "# # Load your Google Drive\n",
        "# drive.mount(\"/content/drive/\", force_remount = True)"
      ],
      "metadata": {
        "id": "KCPTpljTomD2"
      },
      "execution_count": null,
      "outputs": []
    },
    {
      "cell_type": "code",
      "source": [
        "# os.chdir(\"/content/drive/Othercomputers/My MacBook Pro\")"
      ],
      "metadata": {
        "id": "456gRobto6zC"
      },
      "execution_count": null,
      "outputs": []
    },
    {
      "cell_type": "code",
      "source": [
        "import pandas as pd\n",
        "import numpy as np\n",
        "import json # Saving .json--> rich text fmt\n",
        "from ipywidgets import interact # To create interactive plots\n",
        "import plotly.express as px # To create interactive plots\n",
        "import matplotlib.pyplot as plt\n",
        "import seaborn as sns\n",
        "from fpdf import FPDF # report creation"
      ],
      "metadata": {
        "id": "VxBGYoixf7nS"
      },
      "execution_count": null,
      "outputs": []
    },
    {
      "cell_type": "code",
      "source": [],
      "metadata": {
        "id": "7FpVop6Df7f8"
      },
      "execution_count": null,
      "outputs": []
    },
    {
      "cell_type": "code",
      "source": [
        "url = \"https://raw.githubusercontent.com/martinpius/PG_training/refs/heads/main/boston_housing.csv\""
      ],
      "metadata": {
        "id": "y7lGJuKqWpSp"
      },
      "execution_count": null,
      "outputs": []
    },
    {
      "cell_type": "code",
      "source": [],
      "metadata": {
        "id": "rpB__8T0WpID"
      },
      "execution_count": null,
      "outputs": []
    },
    {
      "cell_type": "code",
      "execution_count": null,
      "metadata": {
        "id": "nfsaQxkKF9Wu"
      },
      "outputs": [],
      "source": [
        "## 1. Reusable Functions for Common Tasks\n",
        "\n",
        "def load_housing_data(file_path= url):\n",
        "    \"\"\"\n",
        "    ---> Fn descreption\n",
        "    Load and preprocess data with consistent formatting\n",
        "\n",
        "    \"\"\"\n",
        "    df = pd.read_csv(file_path)\n",
        "    display(df.head(3))\n",
        "    df['AGECategory'] = pd.cut(df['AGE'], bins=[0, 35, 65, float(\"inf\")],\n",
        "                                  labels=['teen', 'Adult','Senior'])\n",
        "    return df"
      ]
    },
    {
      "cell_type": "code",
      "source": [
        "df = load_housing_data()"
      ],
      "metadata": {
        "id": "K3-uOgzIg2_M"
      },
      "execution_count": null,
      "outputs": []
    },
    {
      "cell_type": "code",
      "source": [
        "display(df.head(3))"
      ],
      "metadata": {
        "id": "sqbvzWUEhIQY"
      },
      "execution_count": null,
      "outputs": []
    },
    {
      "cell_type": "code",
      "source": [
        "#df.describe().to_dict()"
      ],
      "metadata": {
        "id": "9OYazHMAvn0F"
      },
      "execution_count": null,
      "outputs": []
    },
    {
      "cell_type": "code",
      "source": [],
      "metadata": {
        "id": "vZ6jXyCZvnxJ"
      },
      "execution_count": null,
      "outputs": []
    },
    {
      "cell_type": "code",
      "source": [
        "def save_results(results_dict):\n",
        "    \"\"\"\n",
        "    Save analysis outputs to JSON\n",
        "\n",
        "    \"\"\"\n",
        "    with open('files_res.json', 'w') as f:\n",
        "        json.dump(results_dict, f)\n",
        "    #print(f\"Results saved to {'myjson.json'}\")"
      ],
      "metadata": {
        "id": "u5LdfeSPGDtw"
      },
      "execution_count": null,
      "outputs": []
    },
    {
      "cell_type": "code",
      "source": [],
      "metadata": {
        "id": "0mFONfO7hREC"
      },
      "execution_count": null,
      "outputs": []
    },
    {
      "cell_type": "code",
      "source": [
        "DATA_PATH = url\n",
        "OUTPUT_DIR = '/content'"
      ],
      "metadata": {
        "id": "RRlCnhLXVZXp"
      },
      "execution_count": null,
      "outputs": []
    },
    {
      "cell_type": "code",
      "source": [],
      "metadata": {
        "id": "TMi7l6rkhXoK"
      },
      "execution_count": null,
      "outputs": []
    },
    {
      "cell_type": "code",
      "source": [
        "def run_full_analysis():\n",
        "    \"\"\"\n",
        "    End-to-end analysis workflow-reusing the above\n",
        "\n",
        "    \"\"\"\n",
        "    df = load_housing_data(DATA_PATH)\n",
        "    df.drop(\"AGECategory\", axis = 1, inplace = True)\n",
        "\n",
        "    # Perform analysis\n",
        "    summary_stats = df.describe().to_dict()\n",
        "    corr_matrix = df.corr().to_dict()\n",
        "\n",
        "    # Save outputs\n",
        "    save_results({'stats': summary_stats, 'correlations': corr_matrix})\n",
        "\n",
        "    return summary_stats, corr_matrix"
      ],
      "metadata": {
        "id": "wpjtUxMzVeZW"
      },
      "execution_count": null,
      "outputs": []
    },
    {
      "cell_type": "code",
      "source": [],
      "metadata": {
        "id": "6nhcFDWAhmvR"
      },
      "execution_count": null,
      "outputs": []
    },
    {
      "cell_type": "code",
      "source": [
        "sumsta, cor = run_full_analysis() # Calling fn"
      ],
      "metadata": {
        "id": "Fx5uINDhVeQS"
      },
      "execution_count": null,
      "outputs": []
    },
    {
      "cell_type": "code",
      "source": [
        "cor"
      ],
      "metadata": {
        "id": "wCAC4IdOVpYJ"
      },
      "execution_count": null,
      "outputs": []
    },
    {
      "cell_type": "code",
      "source": [
        "income_bins = [[0, 3, 6, 9, 15], [0, 5, 10, 15]]"
      ],
      "metadata": {
        "id": "TFV55msE1Nm7"
      },
      "execution_count": null,
      "outputs": []
    },
    {
      "cell_type": "code",
      "source": [
        "for l in income_bins:\n",
        "    for dt in l:\n",
        "        print(dt)"
      ],
      "metadata": {
        "id": "wWB1Gqf100mL"
      },
      "execution_count": null,
      "outputs": []
    },
    {
      "cell_type": "code",
      "source": [
        "# Batch processing automated:\n",
        "df = pd.read_csv(DATA_PATH)\n",
        "\n",
        "# Batch process multiple parameter combinations\n",
        "param_grid = {\n",
        "    'income_bins': [[0, 3, 6, 9, 15], [0, 5, 10, 15]],\n",
        "    'age_thresholds': [40, 50, 60]\n",
        "}\n",
        "\n",
        "results = []\n",
        "\n",
        "for bins in param_grid['income_bins']:\n",
        "    for threshold in param_grid['age_thresholds']:\n",
        "        # Automated categorization\n",
        "        df['IncomeGroup'] = pd.cut(df['MEDV'], bins=bins)\n",
        "        df['OldHouse'] = np.where(df['AGE'] > threshold, 1, 0)\n",
        "\n",
        "        # Store configuration and result\n",
        "        results.append({\n",
        "            'bins': bins,\n",
        "            'threshold': threshold,\n",
        "            'old_houses_avg': df['OldHouse'].mean()\n",
        "        })\n",
        "\n",
        "pd.DataFrame(results).to_csv('results.csv', index=False)"
      ],
      "metadata": {
        "id": "ZpUnUtcLVpUq"
      },
      "execution_count": null,
      "outputs": []
    },
    {
      "cell_type": "code",
      "source": [
        "#df33 = pd.DataFrame({\"a\": [2,2], \"b\": [3,2]})"
      ],
      "metadata": {
        "id": "YWiqg-csVpQO"
      },
      "execution_count": null,
      "outputs": []
    },
    {
      "cell_type": "code",
      "source": [
        "#df33.to_csv(\"myout.csv\")"
      ],
      "metadata": {
        "id": "-Hmn3wo737Lq"
      },
      "execution_count": null,
      "outputs": []
    },
    {
      "cell_type": "code",
      "source": [
        "# Automate report\n",
        "# Generate PDF report with results\n",
        "def create_report(summary_stats,\n",
        "                  output_file='report.pdf'):\n",
        "    \"\"\"\n",
        "    Convert analysis results to PDF\n",
        "    \"\"\"\n",
        "    pdf = FPDF()\n",
        "    pdf.add_page()\n",
        "    pdf.set_font(\"Arial\", size=12)\n",
        "\n",
        "    pdf.cell(200, 10, txt=\"Boston Housing Analysis Report\", ln=1, align='C')\n",
        "    pdf.cell(200, 10, txt=\"bakakakakakak\", ln=1, align='C')\n",
        "\n",
        "    # Add summary table\n",
        "    pdf.cell(200, 10, txt=\"Key Statistics:\", ln=1)\n",
        "    for stat, value in summary_stats['MEDV'].items():\n",
        "        pdf.cell(200, 10, txt=f\"{stat}: {value:.2f}\", ln=1)\n",
        "\n",
        "    pdf.output(output_file)\n",
        "\n",
        "# Usage\n",
        "stats = df.describe().to_dict()\n",
        "create_report(stats)"
      ],
      "metadata": {
        "id": "mpjc0njjVui7"
      },
      "execution_count": null,
      "outputs": []
    },
    {
      "cell_type": "code",
      "source": [],
      "metadata": {
        "id": "5ZCvA7MkloQ2"
      },
      "execution_count": null,
      "outputs": []
    },
    {
      "cell_type": "code",
      "source": [
        "# Interactive Dashboard in Python [Using plotly]"
      ],
      "metadata": {
        "id": "oWUIF2dqloN1"
      },
      "execution_count": null,
      "outputs": []
    },
    {
      "cell_type": "code",
      "source": [
        "\n",
        "# Load data from URL (Other version of housing price)\n",
        "df = pd.read_csv('https://raw.githubusercontent.com/ageron/handson-ml2/master/datasets/housing/housing.csv')"
      ],
      "metadata": {
        "id": "HgOqdvHkV2xr"
      },
      "execution_count": null,
      "outputs": []
    },
    {
      "cell_type": "code",
      "source": [
        "display(df.head(3))"
      ],
      "metadata": {
        "id": "EPO6UlqLV6yu"
      },
      "execution_count": null,
      "outputs": []
    },
    {
      "cell_type": "code",
      "source": [
        "Ocean_Proximity = df['ocean_proximity'].unique()"
      ],
      "metadata": {
        "id": "ULqrdG_k8bI8"
      },
      "execution_count": null,
      "outputs": []
    },
    {
      "cell_type": "code",
      "source": [
        "Ocean_Proximity"
      ],
      "metadata": {
        "id": "9DVkEPR_8bF1"
      },
      "execution_count": null,
      "outputs": []
    },
    {
      "cell_type": "code",
      "source": [
        "Min_Income=(0.0, 15.0, 0.5)\n",
        "\n",
        "df[(df['ocean_proximity'] == Ocean_Proximity) &\n",
        "    (df['median_income'] >= Min_Income)]"
      ],
      "metadata": {
        "id": "JdC9gmVm8wpx"
      },
      "execution_count": null,
      "outputs": []
    },
    {
      "cell_type": "code",
      "source": [
        "Ocean_Proximity = df['ocean_proximity'].unique()\n",
        "Min_Income=(0.0, 15.0, 0.5)\n",
        "Max_House_Age=(0, 100, 5)"
      ],
      "metadata": {
        "id": "rJn4wgsA9JaL"
      },
      "execution_count": null,
      "outputs": []
    },
    {
      "cell_type": "code",
      "source": [
        "filtered = df[\n",
        "        (df['ocean_proximity'] == Ocean_Proximity) &\n",
        "        (df['median_income'] >= Min_Income) &\n",
        "        (df['housing_median_age'] <= Max_House_Age)\n",
        "    ]"
      ],
      "metadata": {
        "id": "jDgqDiCR8r8e"
      },
      "execution_count": null,
      "outputs": []
    },
    {
      "cell_type": "code",
      "source": [],
      "metadata": {
        "id": "SK79JlpW8r5l"
      },
      "execution_count": null,
      "outputs": []
    },
    {
      "cell_type": "code",
      "source": [
        "# Interactive dashboard\n",
        "@interact\n",
        "def housing_dashboard(\n",
        "    Ocean_Proximity = df['ocean_proximity'].unique(),\n",
        "    Min_Income=(0.0, 15.0, 0.5),\n",
        "    Max_House_Age=(0, 100, 5)):\n",
        "\n",
        "    filtered = df[\n",
        "        (df['ocean_proximity'] == Ocean_Proximity) &\n",
        "        (df['median_income'] >= Min_Income) &\n",
        "        (df['housing_median_age'] <= Max_House_Age)\n",
        "    ]\n",
        "\n",
        "    # Create interactive plot\n",
        "    fig = px.scatter(\n",
        "        filtered,\n",
        "        x=\"median_income\",\n",
        "        y=\"median_house_value\",\n",
        "        color=\"population\",\n",
        "        size=\"total_rooms\",\n",
        "        hover_name=\"ocean_proximity\"\n",
        "    )\n",
        "    # Save as HTML\n",
        "    fig.write_html(\"Mydashboard.html\")\n",
        "    fig.show()\n",
        "\n",
        "    # Show stats\n",
        "    print(f\"Found {len(filtered)} properties\")\n",
        "    display(filtered.describe())"
      ],
      "metadata": {
        "id": "0fFt_Rp_WAQf"
      },
      "execution_count": null,
      "outputs": []
    },
    {
      "cell_type": "code",
      "source": [],
      "metadata": {
        "id": "umD--pSDmdmU"
      },
      "execution_count": null,
      "outputs": []
    }
  ]
}