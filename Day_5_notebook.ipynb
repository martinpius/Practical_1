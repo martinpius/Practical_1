{
  "nbformat": 4,
  "nbformat_minor": 0,
  "metadata": {
    "colab": {
      "private_outputs": true,
      "provenance": [],
      "authorship_tag": "ABX9TyPfdMKiNuXN2nbe7CDa8gcp",
      "include_colab_link": true
    },
    "kernelspec": {
      "name": "python3",
      "display_name": "Python 3"
    },
    "language_info": {
      "name": "python"
    }
  },
  "cells": [
    {
      "cell_type": "markdown",
      "metadata": {
        "id": "view-in-github",
        "colab_type": "text"
      },
      "source": [
        "<a href=\"https://colab.research.google.com/github/martinpius/Practical_1/blob/main/Day_5_notebook.ipynb\" target=\"_parent\"><img src=\"https://colab.research.google.com/assets/colab-badge.svg\" alt=\"Open In Colab\"/></a>"
      ]
    },
    {
      "cell_type": "code",
      "execution_count": null,
      "metadata": {
        "id": "9ft705UAitTQ"
      },
      "outputs": [],
      "source": [
        "# Import necessary packages for today's lesson\n",
        "import numpy as np\n",
        "import pandas as pd\n",
        "import seaborn as sns\n",
        "from sklearn.datasets import fetch_california_housing\n",
        "from scipy import stats\n",
        "import matplotlib.pyplot as plt"
      ]
    },
    {
      "cell_type": "code",
      "source": [
        "# Loading the dataset from fetch_california_housing\n",
        "california = fetch_california_housing()"
      ],
      "metadata": {
        "id": "pTJWVcCqjFyG"
      },
      "execution_count": null,
      "outputs": []
    },
    {
      "cell_type": "code",
      "source": [
        "# Create the Pandas DataFrame using the above instance\n",
        "dfm = pd.DataFrame(data = california.data,\n",
        "                   columns = california.feature_names)"
      ],
      "metadata": {
        "id": "xL-Ng8Oujb15"
      },
      "execution_count": null,
      "outputs": []
    },
    {
      "cell_type": "code",
      "source": [
        "# Observes first few covariates: [The loaded data has covariates only]\n",
        "display(dfm.head(4))"
      ],
      "metadata": {
        "id": "C4bd2JGLjwmP"
      },
      "execution_count": null,
      "outputs": []
    },
    {
      "cell_type": "code",
      "source": [
        "# Add the target (The response variable to the dataframe above)"
      ],
      "metadata": {
        "id": "l4lVWHvpkAza"
      },
      "execution_count": null,
      "outputs": []
    },
    {
      "cell_type": "code",
      "source": [
        "dfm[\"MedHouseVal\"] = california.target"
      ],
      "metadata": {
        "id": "XLhu_XX-kIYZ"
      },
      "execution_count": null,
      "outputs": []
    },
    {
      "cell_type": "code",
      "source": [
        "# Observes the first few raws again\n",
        "display(dfm.head(4))"
      ],
      "metadata": {
        "id": "aLXqEQXGkgYH"
      },
      "execution_count": null,
      "outputs": []
    },
    {
      "cell_type": "code",
      "source": [
        "# Change the target into USD by multiplying with 100000\n",
        "dfm[\"MedHouseVal\"] = dfm.MedHouseVal * 100000"
      ],
      "metadata": {
        "id": "Rf02rZyIknhx"
      },
      "execution_count": null,
      "outputs": []
    },
    {
      "cell_type": "code",
      "source": [
        "# Observes the data again to see the effect\n",
        "display(dfm.head(5))"
      ],
      "metadata": {
        "id": "RKrfhzNClIa0"
      },
      "execution_count": null,
      "outputs": []
    },
    {
      "cell_type": "code",
      "source": [
        "# See how many rows and columns we have\n",
        "dfm.shape"
      ],
      "metadata": {
        "id": "-jAm0fDTlSSd"
      },
      "execution_count": null,
      "outputs": []
    },
    {
      "cell_type": "code",
      "source": [
        "# Renaming columns for clarity (whener necessary): Here is only to\n",
        "# demonstrate the use of rename functionality in Pandas"
      ],
      "metadata": {
        "id": "ggT4vavilYSu"
      },
      "execution_count": null,
      "outputs": []
    },
    {
      "cell_type": "code",
      "source": [
        "# Syntax is: dfm.rename(mapper = {\"oldname\":\"newname\"})"
      ],
      "metadata": {
        "id": "aihGd3pNl1gf"
      },
      "execution_count": null,
      "outputs": []
    },
    {
      "cell_type": "code",
      "source": [
        "dfm = dfm.rename(mapper = {\n",
        "    'MedInc': 'MedianIncome',\n",
        "    'AveRooms': 'AvgRooms',\n",
        "    'AveBedrms': 'AvgBedrooms',\n",
        "    'AveOccup': 'AvgOccupancy'\n",
        "})"
      ],
      "metadata": {
        "id": "l0VoL87Ulm8D"
      },
      "execution_count": null,
      "outputs": []
    },
    {
      "cell_type": "code",
      "source": [
        "# Observes the changes\n",
        "display(dfm.head())"
      ],
      "metadata": {
        "id": "qT2q20SlmKBU"
      },
      "execution_count": null,
      "outputs": []
    },
    {
      "cell_type": "code",
      "source": [
        "# Investigate anymissing {You can use .isna() or .isnull()}"
      ],
      "metadata": {
        "id": "j1etbi97mOlK"
      },
      "execution_count": null,
      "outputs": []
    },
    {
      "cell_type": "code",
      "source": [
        "dfm.isna().sum()"
      ],
      "metadata": {
        "id": "-VKHDedUmW2h"
      },
      "execution_count": null,
      "outputs": []
    },
    {
      "cell_type": "code",
      "source": [
        "dfm.isnull().sum()"
      ],
      "metadata": {
        "id": "N21gsJ9_maBF"
      },
      "execution_count": null,
      "outputs": []
    },
    {
      "cell_type": "code",
      "source": [
        "# Our data has no any missing. Let simulate missing for the \"MedInc\""
      ],
      "metadata": {
        "id": "GwEIukJ2mcYB"
      },
      "execution_count": null,
      "outputs": []
    },
    {
      "cell_type": "code",
      "source": [
        "dfm.loc[10:20, ['MedInc']] = np.nan # Make rows 10 to 20 missing for the column \"MedInc\""
      ],
      "metadata": {
        "id": "bDmiVy0NmniP"
      },
      "execution_count": null,
      "outputs": []
    },
    {
      "cell_type": "code",
      "source": [
        "# Observes the changes we see 11 missing\n",
        "dfm.isna().sum()"
      ],
      "metadata": {
        "id": "mn2PaUOEnVLV"
      },
      "execution_count": null,
      "outputs": []
    },
    {
      "cell_type": "code",
      "source": [
        "# Fill the missing value (Imputation depends on the variable as discussed in class: Several approaches as available): Here we fill with the Median income"
      ],
      "metadata": {
        "id": "CfbJtp0Jnawl"
      },
      "execution_count": null,
      "outputs": []
    },
    {
      "cell_type": "code",
      "source": [
        "dfm[\"MedInc\"] = dfm[\"MedInc\"].fillna(value = dfm[\"MedInc\"].median())"
      ],
      "metadata": {
        "id": "Dylchyd1ntg_"
      },
      "execution_count": null,
      "outputs": []
    },
    {
      "cell_type": "code",
      "source": [
        "# Check again if the problem is solved\n",
        "dfm.isna().sum()"
      ],
      "metadata": {
        "id": "ePdQ2HeMoEv8"
      },
      "execution_count": null,
      "outputs": []
    },
    {
      "cell_type": "code",
      "source": [
        "# Print out the metadata [column names, etc]"
      ],
      "metadata": {
        "id": "3hAaolPloQmO"
      },
      "execution_count": null,
      "outputs": []
    },
    {
      "cell_type": "code",
      "source": [
        "print(\"Columns:\", dfm.columns.tolist())\n",
        "print(\"\\nData types:\\n\", dfm.dtypes)\n",
        "print(\"\\nMissing values:\\n\", dfm.isnull().sum())"
      ],
      "metadata": {
        "id": "Xgc1X1wroZEK"
      },
      "execution_count": null,
      "outputs": []
    },
    {
      "cell_type": "code",
      "source": [
        "# Create categorical income groups\n",
        "dfm['IncomeCategory'] = pd.cut(dfm['MedInc'],\n",
        "                              bins=[0, 3, 6, 9, 15],\n",
        "                              labels=['Low', 'Medium', 'High', 'Very High'])"
      ],
      "metadata": {
        "id": "wmAtyoJxoZj_"
      },
      "execution_count": null,
      "outputs": []
    },
    {
      "cell_type": "code",
      "source": [
        "# See the changes\n",
        "display(dfm.head(3))"
      ],
      "metadata": {
        "id": "uHBae6Qioiq2"
      },
      "execution_count": null,
      "outputs": []
    },
    {
      "cell_type": "code",
      "source": [
        "# Filter coastal properties [Longitude and Latitude range are defined/Given in this case]\n",
        "coastal_mask = (dfm['Latitude'] >= 34) & (dfm['Latitude'] <= 38) & \\\n",
        "               (dfm['Longitude'] >= -124) & (dfm['Longitude'] <= -118)"
      ],
      "metadata": {
        "id": "5wivFhfoo80J"
      },
      "execution_count": null,
      "outputs": []
    },
    {
      "cell_type": "code",
      "source": [
        "# Check out the mask\n",
        "coastal_mask.head(4)"
      ],
      "metadata": {
        "id": "2FUVvqLHpTM2"
      },
      "execution_count": null,
      "outputs": []
    },
    {
      "cell_type": "code",
      "source": [
        "# Apply the mask to fetch coastal houses/properties\n",
        "coastal_housing = dfm[coastal_mask].copy()"
      ],
      "metadata": {
        "id": "bwx9HU35pZAg"
      },
      "execution_count": null,
      "outputs": []
    },
    {
      "cell_type": "code",
      "source": [
        "# Print out total rows obtained/fetched\n",
        "print(f\"Found {len(coastal_housing)} coastal properties\")"
      ],
      "metadata": {
        "id": "vrN_7MKtpjGJ"
      },
      "execution_count": null,
      "outputs": []
    },
    {
      "cell_type": "code",
      "source": [
        "import warnings\n",
        "warnings.filterwarnings(action = \"ignore\")"
      ],
      "metadata": {
        "id": "HR6gmrNNqC-8"
      },
      "execution_count": null,
      "outputs": []
    },
    {
      "cell_type": "code",
      "source": [
        "# Group analysis by income category\n",
        "income_stats = dfm.groupby('IncomeCategory').agg(\n",
        "    AvgHouseValue=('MedHouseVal', 'mean'),\n",
        "    MaxBedrooms=('AveBedrms', 'max'),\n",
        "    TotalPopulation=('Population', 'sum')\n",
        ").reset_index()"
      ],
      "metadata": {
        "id": "l1AyqGx4po9e"
      },
      "execution_count": null,
      "outputs": []
    },
    {
      "cell_type": "code",
      "source": [
        "income_stats"
      ],
      "metadata": {
        "id": "h69yLCgNpxes"
      },
      "execution_count": null,
      "outputs": []
    },
    {
      "cell_type": "code",
      "source": [
        "dfm.describe() # General summary (Discreptv stat for numerica vars)"
      ],
      "metadata": {
        "id": "8DldOfctqT7V"
      },
      "execution_count": null,
      "outputs": []
    },
    {
      "cell_type": "code",
      "source": [],
      "metadata": {
        "id": "wx2hrZ8IqYuU"
      },
      "execution_count": null,
      "outputs": []
    },
    {
      "cell_type": "code",
      "source": [
        "# Calculate price per room [Feature engineering]\n",
        "coastal_housing['PricePerRoom'] = coastal_housing['MedHouseVal']/coastal_housing['AveRooms']"
      ],
      "metadata": {
        "id": "_i7KCYORqeUK"
      },
      "execution_count": null,
      "outputs": []
    },
    {
      "cell_type": "code",
      "source": [
        "# See the changes\n",
        "coastal_housing.head(2)"
      ],
      "metadata": {
        "id": "zL-7w57KqeRY"
      },
      "execution_count": null,
      "outputs": []
    },
    {
      "cell_type": "code",
      "source": [
        "# Splitting and Merging Datasets in Pandas\n",
        "# Split into two datasets[Here we split the columns-> subsets will have same number of rows]\n",
        "geo_data = dfm[['Latitude', 'Longitude', 'MedHouseVal']] # Subseting only geospatial dt\n",
        "economic_data = dfm.drop(['Latitude', 'Longitude'], axis=1) # Other data"
      ],
      "metadata": {
        "id": "eoNIY2n6qt3_"
      },
      "execution_count": null,
      "outputs": []
    },
    {
      "cell_type": "code",
      "source": [
        "# See what you now have\n",
        "geo_data.shape"
      ],
      "metadata": {
        "id": "y5IT9lxSqx_I"
      },
      "execution_count": null,
      "outputs": []
    },
    {
      "cell_type": "code",
      "source": [
        "economic_data.shape"
      ],
      "metadata": {
        "id": "thZLOKuBq-Ea"
      },
      "execution_count": null,
      "outputs": []
    },
    {
      "cell_type": "code",
      "source": [
        "# Merge the data to reconstruct the oiginal\n",
        "merged_df = pd.concat([geo_data, economic_data], axis = 1)"
      ],
      "metadata": {
        "id": "wd74CddUrA8m"
      },
      "execution_count": null,
      "outputs": []
    },
    {
      "cell_type": "code",
      "source": [
        "merged_df.head(2)"
      ],
      "metadata": {
        "id": "uFtH4kJ5rU6I"
      },
      "execution_count": null,
      "outputs": []
    },
    {
      "cell_type": "code",
      "source": [
        "# Export and save cleaned dataset for future use[Load your drive and reset the directory to the folder of your choice to save in your drive--> This was covered in previous class]\n",
        "# Save cleaned data for further uses\n",
        "\n",
        "dfm.to_csv('merged_df.csv', index=False)\n",
        "\n",
        "# Export income statistics\n",
        "income_stats.to_excel('merged_df.xlsx', index=False)"
      ],
      "metadata": {
        "id": "RtQsf-ejrX0U"
      },
      "execution_count": null,
      "outputs": []
    },
    {
      "cell_type": "code",
      "source": [
        "# Basic descriptive statistics by subseting the data\n",
        "print(\"Global Statistics:\")\n",
        "print(dfm[['MedHouseVal', 'MedInc', 'HouseAge']].describe())\n"
      ],
      "metadata": {
        "id": "f4ZGQjNtr0Ju"
      },
      "execution_count": null,
      "outputs": []
    },
    {
      "cell_type": "code",
      "source": [
        "# Skewness/Kurtosis Analysis [Refers to your Basic Stats Class]\n",
        "print(\"\\nDistribution Shape:\")\n",
        "print(dfm[['MedHouseVal', 'MedInc']].agg(['skew', 'kurtosis']))"
      ],
      "metadata": {
        "id": "tsLqgOv2sBo_"
      },
      "execution_count": null,
      "outputs": []
    },
    {
      "cell_type": "code",
      "source": [
        "# Correlation Matrix\n",
        "corr_matrix = dfm.corr(numeric_only=True)\n",
        "print(\"\\nTop Correlations with House Value:\")\n",
        "print(corr_matrix['MedHouseVal'].sort_values(ascending=False)[:5])"
      ],
      "metadata": {
        "id": "z8jaSQWCsNSH"
      },
      "execution_count": null,
      "outputs": []
    },
    {
      "cell_type": "code",
      "source": [],
      "metadata": {
        "id": "WStFSs7tsUbD"
      },
      "execution_count": null,
      "outputs": []
    },
    {
      "cell_type": "code",
      "source": [
        "# Distribution Analysis\n",
        "plt.figure(figsize=(18,6))\n",
        "\n",
        "# House Value Distribution\n",
        "plt.subplot(1,2,1)\n",
        "sns.histplot(dfm['MedHouseVal'], kde=True, bins=30)\n",
        "plt.title('House Value Distribution')\n",
        "\n",
        "# Income-Value Relationship\n",
        "plt.subplot(1,2,2)\n",
        "sns.scatterplot(x='MedInc', y='MedHouseVal', data=dfm, alpha=0.3) # Change alpha for more resolution\n",
        "plt.title('Income vs House Value')\n",
        "\n",
        "plt.tight_layout();"
      ],
      "metadata": {
        "id": "x70TEaONshHe"
      },
      "execution_count": null,
      "outputs": []
    },
    {
      "cell_type": "code",
      "source": [],
      "metadata": {
        "id": "yB9ky9hoshEa"
      },
      "execution_count": null,
      "outputs": []
    },
    {
      "cell_type": "code",
      "source": [
        "# Anomaly Detection\n",
        "# Identify price outliers using IQR\n",
        "Q1 = dfm['MedHouseVal'].quantile(0.25)\n",
        "Q3 = dfm['MedHouseVal'].quantile(0.75)\n",
        "IQR = Q3 - Q1\n",
        "\n",
        "outliers = dfm[(dfm['MedHouseVal'] < Q1 - 1.5*IQR) |\n",
        "             (dfm['MedHouseVal'] > Q3 + 1.5*IQR)]\n",
        "\n",
        "print(f\"Found {len(outliers)} price outliers ({len(outliers)/len(dfm):.1%} of data)\")\n",
        "print(\"Outlier characteristics:\")\n",
        "print(outliers[['MedInc', 'HouseAge', 'AveRooms']].describe())"
      ],
      "metadata": {
        "id": "bUoiWHo-s9DY"
      },
      "execution_count": null,
      "outputs": []
    },
    {
      "cell_type": "code",
      "source": [],
      "metadata": {
        "id": "P_Av9CKKs9AW"
      },
      "execution_count": null,
      "outputs": []
    },
    {
      "cell_type": "code",
      "source": [
        "# For spatial Analytics create latitude and longitude clusters\n",
        "dfm['LatCluster'] = pd.qcut(dfm['Latitude'], q=5, labels=False)\n",
        "dfm['LonCluster'] = pd.qcut(dfm['Longitude'], q=5, labels=False)"
      ],
      "metadata": {
        "id": "qlgFXty9tN5b"
      },
      "execution_count": null,
      "outputs": []
    },
    {
      "cell_type": "code",
      "source": [
        "# See the changes\n",
        "display(dfm.head())"
      ],
      "metadata": {
        "id": "tx6Wg5GqtN2Y"
      },
      "execution_count": null,
      "outputs": []
    },
    {
      "cell_type": "code",
      "source": [
        "# See unique values of a categorical variable\n",
        "dfm.LatCluster.unique()"
      ],
      "metadata": {
        "id": "UFc3f71stf0G"
      },
      "execution_count": null,
      "outputs": []
    },
    {
      "cell_type": "code",
      "source": [],
      "metadata": {
        "id": "RVXVV9ZqtsKz"
      },
      "execution_count": null,
      "outputs": []
    },
    {
      "cell_type": "code",
      "source": [
        "# Analyse spatial patterns\n",
        "plt.figure(figsize=(10,6))\n",
        "sns.scatterplot(x='Longitude', y='Latitude', hue='MedHouseVal',\n",
        "                data=dfm, palette='viridis', alpha=0.8)\n",
        "plt.title('Geographic Price Distribution');"
      ],
      "metadata": {
        "id": "VHn3yePMtxSd"
      },
      "execution_count": null,
      "outputs": []
    },
    {
      "cell_type": "code",
      "source": [
        "# TODO: Intepreate the above plot like we have discussed earlier in the class"
      ],
      "metadata": {
        "id": "wE5UVAx6txPn"
      },
      "execution_count": null,
      "outputs": []
    },
    {
      "cell_type": "code",
      "source": [],
      "metadata": {
        "id": "qVQ5Ci8RtxMt"
      },
      "execution_count": null,
      "outputs": []
    },
    {
      "cell_type": "code",
      "source": [
        "# Pair Plot for Key Features to demonstrate MVA\n",
        "sns.pairplot(dfm[['MedHouseVal', 'MedInc', 'HouseAge', 'AveRooms']],\n",
        "             plot_kws={'alpha':0.5})\n",
        "plt.suptitle('Multivariate Relationships', y=1.04);"
      ],
      "metadata": {
        "id": "TYR2tG38uB6M"
      },
      "execution_count": null,
      "outputs": []
    },
    {
      "cell_type": "code",
      "source": [],
      "metadata": {
        "id": "-Z27nJsAuB3W"
      },
      "execution_count": null,
      "outputs": []
    },
    {
      "cell_type": "code",
      "source": [
        "#The correlation hitmap to identify multicolinearity\n",
        "plt.figure(figsize=(10,6))\n",
        "mask = np.triu(np.ones_like(corr_matrix, dtype=bool))\n",
        "sns.heatmap(corr_matrix, mask = mask, annot=True, cmap='coolwarm')\n",
        "plt.title('Feature Correlation Matrix');"
      ],
      "metadata": {
        "id": "C5OIRYLUuB0q"
      },
      "execution_count": null,
      "outputs": []
    },
    {
      "cell_type": "code",
      "source": [
        "# TODO: Intepreate the above correlation matrix as we did in class"
      ],
      "metadata": {
        "id": "Iyttr_mCuRwp"
      },
      "execution_count": null,
      "outputs": []
    },
    {
      "cell_type": "code",
      "source": [
        "# Creating groups for t-test"
      ],
      "metadata": {
        "id": "IvMSTf_OumDu"
      },
      "execution_count": null,
      "outputs": []
    },
    {
      "cell_type": "code",
      "source": [
        "coastal = dfm[dfm['LatCluster'].isin([2,3])]['MedHouseVal']  # Coastal clusters\n",
        "inland = dfm[dfm['LatCluster'].isin([0,4])]['MedHouseVal']   # Inland clusters"
      ],
      "metadata": {
        "id": "rLcdVudlumAx"
      },
      "execution_count": null,
      "outputs": []
    },
    {
      "cell_type": "code",
      "source": [
        "# Perform two-sample t-test\n",
        "t_stat, p_val = stats.ttest_ind(coastal, inland, equal_var=False)\n",
        "print(f\"T-statistic: {t_stat:.2f}, p-value: {p_val:.4f}\")\n",
        "\n",
        "if p_val < 0.05:\n",
        "    print(\"Reject H₀: Significant price difference between coastal and inland properties\")\n",
        "else:\n",
        "    print(\"No significant difference detected\")"
      ],
      "metadata": {
        "id": "ktENf0ARuvMo"
      },
      "execution_count": null,
      "outputs": []
    },
    {
      "cell_type": "code",
      "source": [
        "# TODO Recal your stat-inference for intepretation of the above outputs"
      ],
      "metadata": {
        "id": "cX20kXJsuzFS"
      },
      "execution_count": null,
      "outputs": []
    },
    {
      "cell_type": "code",
      "source": [],
      "metadata": {
        "id": "IAIEJbiwu7g6"
      },
      "execution_count": null,
      "outputs": []
    },
    {
      "cell_type": "code",
      "source": [
        "# Prepare data groups---> For oneway ANOVA\n",
        "income_groups = [\n",
        "    dfm[dfm['IncomeCategory'] == cat]['MedHouseVal']\n",
        "    for cat in ['Low', 'Medium', 'High', 'Very High']\n",
        "]\n"
      ],
      "metadata": {
        "id": "J9Nev9ssvElm"
      },
      "execution_count": null,
      "outputs": []
    },
    {
      "cell_type": "code",
      "source": [
        "# One-way ANOVA\n",
        "f_stat, p_val = stats.f_oneway(*income_groups)\n",
        "print(f\"F-statistic: {f_stat:.1f}, p-value: {p_val:.4f}\")"
      ],
      "metadata": {
        "id": "4mN22glnvEin"
      },
      "execution_count": null,
      "outputs": []
    },
    {
      "cell_type": "code",
      "source": [
        "# TODO Recal your stat-inference for intepretation of the above outputs"
      ],
      "metadata": {
        "id": "W-8lZj34vEgG"
      },
      "execution_count": null,
      "outputs": []
    },
    {
      "cell_type": "code",
      "source": [],
      "metadata": {
        "id": "-m_oL8y5vQzR"
      },
      "execution_count": null,
      "outputs": []
    },
    {
      "cell_type": "code",
      "source": [
        "# Exericise:--:> Use dataset of your own/Boston-housing from my GitHub repo,\n",
        "# Open the new notebook and perform EDA:"
      ],
      "metadata": {
        "id": "aWQbvEhmvRWb"
      },
      "execution_count": null,
      "outputs": []
    },
    {
      "cell_type": "code",
      "source": [
        "#==============================================================================="
      ],
      "metadata": {
        "id": "GeyGnczkvRTS"
      },
      "execution_count": null,
      "outputs": []
    },
    {
      "cell_type": "code",
      "source": [],
      "metadata": {
        "id": "wPwWSlyPvRQe"
      },
      "execution_count": null,
      "outputs": []
    }
  ]
}