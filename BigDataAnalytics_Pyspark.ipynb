{
  "nbformat": 4,
  "nbformat_minor": 0,
  "metadata": {
    "colab": {
      "private_outputs": true,
      "provenance": [],
      "authorship_tag": "ABX9TyPiuiG8nd/HJG2tDXJd0Emw",
      "include_colab_link": true
    },
    "kernelspec": {
      "name": "python3",
      "display_name": "Python 3"
    },
    "language_info": {
      "name": "python"
    }
  },
  "cells": [
    {
      "cell_type": "markdown",
      "metadata": {
        "id": "view-in-github",
        "colab_type": "text"
      },
      "source": [
        "<a href=\"https://colab.research.google.com/github/martinpius/Practical_1/blob/main/BigDataAnalytics_Pyspark.ipynb\" target=\"_parent\"><img src=\"https://colab.research.google.com/assets/colab-badge.svg\" alt=\"Open In Colab\"/></a>"
      ]
    },
    {
      "cell_type": "code",
      "execution_count": null,
      "metadata": {
        "id": "cWI70z9BXSZE"
      },
      "outputs": [],
      "source": [
        "# Big Data Processing Assignment: NYC Taxi Data with PySpark\n",
        "\n",
        "# ------------------------------------------------------------\n",
        "# Setup Section\n",
        "# ------------------------------------------------------------\n",
        "# Import required libraries\n",
        "import os, requests\n",
        "from pyspark.sql import SparkSession\n",
        "from pyspark.sql.functions import *\n",
        "\n",
        "# Create a SparkSession\n",
        "spark = SparkSession.builder \\\n",
        "    .appName(\"NYC Taxi Analysis\") \\\n",
        "    .getOrCreate()\n",
        "\n",
        "# ------------------------------------------------------------\n",
        "# 1. Load and Explore Dataset\n",
        "# ------------------------------------------------------------\n",
        "# Q1: Load the dataset (CSV or Parquet) and show the schema.\n",
        "# ------------------------------------------------------------\n",
        "# Step 1: Download Data\n",
        "# ------------------------------------------------------------\n",
        "\n",
        "file_url = \"https://d37ci6vzurychx.cloudfront.net/trip-data/yellow_tripdata_2023-01.parquet\"\n",
        "file_name = \"yellow_tripdata_2023-01.parquet\"\n",
        "\n",
        "if not os.path.exists(file_name):\n",
        "    print(\"Downloading dataset...\")\n",
        "    r = requests.get(file_url)\n",
        "    with open(file_name, \"wb\") as f:\n",
        "        f.write(r.content)\n",
        "    print(\"Download complete!\")\n",
        "else:\n",
        "    print(\"File already exists.\")"
      ]
    },
    {
      "cell_type": "code",
      "source": [],
      "metadata": {
        "id": "_194-EDIYI0j"
      },
      "execution_count": null,
      "outputs": []
    },
    {
      "cell_type": "code",
      "source": [
        "# ------------------------------------------------------------\n",
        "# Step 2: Spark Setup\n",
        "# ------------------------------------------------------------\n",
        "\n",
        "spark = SparkSession.builder \\\n",
        "    .appName(\"NYC Taxi Analysis\") \\\n",
        "    .getOrCreate()\n",
        "\n",
        "\n"
      ],
      "metadata": {
        "id": "UONpoc4qYuow"
      },
      "execution_count": null,
      "outputs": []
    },
    {
      "cell_type": "code",
      "source": [
        "# ------------------------------------------------------------\n",
        "# Step 3: Load Data\n",
        "# ------------------------------------------------------------\n",
        "df = spark.read.parquet(file_name)\n",
        "\n",
        "df.show(5)\n",
        "\n",
        " # Q1: Print out the schema\n",
        "df.printSchema()"
      ],
      "metadata": {
        "id": "lU7y0Vm0ZOis"
      },
      "execution_count": null,
      "outputs": []
    },
    {
      "cell_type": "code",
      "source": [
        "\n",
        "# Q2: Show 5 sample rows.\n",
        "df.show(5)"
      ],
      "metadata": {
        "id": "7ywsMNLrZOba"
      },
      "execution_count": null,
      "outputs": []
    },
    {
      "cell_type": "code",
      "source": [
        "\n",
        "# Q3: Count total number of rows in the dataset.\n",
        "df.count()"
      ],
      "metadata": {
        "id": "kuYKE9p-ZZSY"
      },
      "execution_count": null,
      "outputs": []
    },
    {
      "cell_type": "code",
      "source": [
        "\n",
        "# ------------------------------------------------------------\n",
        "# 2. Data Cleaning\n",
        "# ------------------------------------------------------------\n",
        "# Q4: Remove rows with nulls in pickup_datetime, dropoff_datetime, trip_distance, fare_amount.\n",
        "df_clean = df.dropna(subset=[\"tpep_pickup_datetime\", \"tpep_dropoff_datetime\", \"trip_distance\", \"fare_amount\"])"
      ],
      "metadata": {
        "id": "JqleBe9dZw_s"
      },
      "execution_count": null,
      "outputs": []
    },
    {
      "cell_type": "code",
      "source": [],
      "metadata": {
        "id": "vjoTw4I8Zw8v"
      },
      "execution_count": null,
      "outputs": []
    },
    {
      "cell_type": "code",
      "source": [
        "\n",
        "# Q5: Filter out rows with negative trip_distance or fare_amount.\n",
        "df_clean = df_clean.filter((col(\"trip_distance\") > 0) & (col(\"fare_amount\") > 0))"
      ],
      "metadata": {
        "id": "oI80_zMtZw5v"
      },
      "execution_count": null,
      "outputs": []
    },
    {
      "cell_type": "code",
      "source": [],
      "metadata": {
        "id": "Y5RScLiZcOZm"
      },
      "execution_count": null,
      "outputs": []
    },
    {
      "cell_type": "code",
      "source": [
        "# Q6: Count how many rows remain after cleaning.\n",
        "df_clean.count()"
      ],
      "metadata": {
        "id": "CvrtSr5GZw2G"
      },
      "execution_count": null,
      "outputs": []
    },
    {
      "cell_type": "code",
      "source": [],
      "metadata": {
        "id": "wcPCBlHXaHTe"
      },
      "execution_count": null,
      "outputs": []
    },
    {
      "cell_type": "code",
      "source": [
        "# ------------------------------------------------------------\n",
        "# 3. Feature Engineering\n",
        "# ------------------------------------------------------------\n",
        "# Q7: Extract hour and weekday from pickup_datetime.\n",
        "df_features = df_clean.withColumn(\"pickup_hour\", hour(\"tpep_pickup_datetime\")) \\\n",
        "                       .withColumn(\"pickup_day\", date_format(\"tpep_pickup_datetime\", \"E\"))"
      ],
      "metadata": {
        "id": "NxUu-NaMaHRD"
      },
      "execution_count": null,
      "outputs": []
    },
    {
      "cell_type": "code",
      "source": [
        "df_features.show(5)"
      ],
      "metadata": {
        "id": "36fOPGu0aHOk"
      },
      "execution_count": null,
      "outputs": []
    },
    {
      "cell_type": "code",
      "source": [
        "\n",
        "# Q8: Compute trip duration in minutes.\n",
        "df_features = df_features.withColumn(\"trip_duration\",\n",
        "                     (unix_timestamp(\"tpep_dropoff_datetime\") - unix_timestamp(\"tpep_pickup_datetime\")) / 60)"
      ],
      "metadata": {
        "id": "zRBw6vIQaMZg"
      },
      "execution_count": null,
      "outputs": []
    },
    {
      "cell_type": "code",
      "source": [
        "df_features.show(5)"
      ],
      "metadata": {
        "id": "HWpCv0hOaMWt"
      },
      "execution_count": null,
      "outputs": []
    },
    {
      "cell_type": "code",
      "source": [],
      "metadata": {
        "id": "iWysRteNcU8c"
      },
      "execution_count": null,
      "outputs": []
    },
    {
      "cell_type": "code",
      "source": [
        "\n",
        "# Q9: Add a \"rush_hour\" column (1 if pickup hour is 7–9 AM or 4–7 PM, else 0).\n",
        "df_features = df_features.withColumn(\"rush_hour\",\n",
        "                     when((col(\"pickup_hour\").between(7, 9)) | (col(\"pickup_hour\").between(16, 19)), 1).otherwise(0))"
      ],
      "metadata": {
        "id": "fRkdxSaBaHLt"
      },
      "execution_count": null,
      "outputs": []
    },
    {
      "cell_type": "code",
      "source": [
        "df_features.show(4)"
      ],
      "metadata": {
        "id": "0GZg6KOYaToF"
      },
      "execution_count": null,
      "outputs": []
    },
    {
      "cell_type": "code",
      "source": [
        "\n",
        "# ------------------------------------------------------------\n",
        "# 4. Aggregation Tasks\n",
        "# ------------------------------------------------------------\n",
        "# Q10: Compute average trip distance and fare per pickup day.\n",
        "df_features.groupBy(\"pickup_day\").agg(\n",
        "    avg(\"trip_distance\").alias(\"avg_distance\"),\n",
        "    avg(\"fare_amount\").alias(\"avg_fare\")\n",
        ").show()"
      ],
      "metadata": {
        "id": "TwMOh60LaTly"
      },
      "execution_count": null,
      "outputs": []
    },
    {
      "cell_type": "code",
      "source": [],
      "metadata": {
        "id": "cd7-G9OGaTjP"
      },
      "execution_count": null,
      "outputs": []
    },
    {
      "cell_type": "code",
      "source": [
        "# Q11: Total revenue per weekday.\n",
        "df_features.groupBy(\"pickup_day\").agg(\n",
        "    sum(\"fare_amount\").alias(\"total_revenue\")\n",
        ").show()"
      ],
      "metadata": {
        "id": "A0wi5zlVaTgk"
      },
      "execution_count": null,
      "outputs": []
    },
    {
      "cell_type": "code",
      "source": [],
      "metadata": {
        "id": "iAMf1v7ZaTdw"
      },
      "execution_count": null,
      "outputs": []
    },
    {
      "cell_type": "code",
      "source": [
        "# Q12: Top 5 pickup locations (assuming pickup_location_id exists).\n",
        "if \"PULocationID\" in df_features.columns:\n",
        "    df_features.groupBy(\"PULocationID\").count().orderBy(desc(\"count\")).show(5)"
      ],
      "metadata": {
        "id": "v5kaTZu6aqbO"
      },
      "execution_count": null,
      "outputs": []
    },
    {
      "cell_type": "code",
      "source": [],
      "metadata": {
        "id": "QsOqO_HUa0Go"
      },
      "execution_count": null,
      "outputs": []
    },
    {
      "cell_type": "code",
      "source": [
        "# ------------------------------------------------------------\n",
        "# 5. Task 1\n",
        "# ------------------------------------------------------------\n",
        "# Q13: Join with taxi zone lookup data (if available)\n",
        "# Example: Read zone data and join\n"
      ],
      "metadata": {
        "id": "KfgTwcFYa0Du"
      },
      "execution_count": null,
      "outputs": []
    },
    {
      "cell_type": "code",
      "source": [
        "# ------------------------------------------------------------\n",
        "# 5.Task 2\n",
        "# ------------------------------------------------------------\n",
        "# Q13: Join with taxi zone lookup data (if available)\n",
        "# Example: Read zone data and join\n",
        "\n",
        "\n",
        "# ------------------------------------------------------------\n",
        "# 6. Task2: Save for Visualization\n",
        "# ------------------------------------------------------------\n",
        "# Q14: Convert to Pandas for plotting (if desired)\n",
        "# pdf = df_features.select(\"pickup_hour\", \"fare_amount\").sample(False, 0.01).toPandas()\n",
        "\n",
        "# ------------------------------------------------------------\n",
        "# End of Notebook\n",
        "# ------------------------------------------------------------\n",
        "spark.stop()"
      ],
      "metadata": {
        "id": "1dIpCaRCY6Ee"
      },
      "execution_count": null,
      "outputs": []
    },
    {
      "cell_type": "code",
      "source": [],
      "metadata": {
        "id": "JRPlLVYWYudg"
      },
      "execution_count": null,
      "outputs": []
    }
  ]
}